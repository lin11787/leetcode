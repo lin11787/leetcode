{
  "nbformat": 4,
  "nbformat_minor": 0,
  "metadata": {
    "colab": {
      "provenance": []
    },
    "kernelspec": {
      "name": "python3",
      "display_name": "Python 3"
    },
    "language_info": {
      "name": "python"
    }
  },
  "cells": [
    {
      "cell_type": "code",
      "execution_count": null,
      "metadata": {
        "id": "9-oP3jETzNlH"
      },
      "outputs": [],
      "source": [
        "nums = [2,7,11,15]\n",
        "target = 9\n",
        "for i in range(len(nums)):\n",
        "  for j in range(i+1, len(nums)):\n",
        "    if i == j:\n",
        "      continue\n",
        "    if nums[i] + nums[ j] == target:\n",
        "      print([i, j])"
      ]
    }
  ]
}