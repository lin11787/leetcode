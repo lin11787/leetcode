{
  "nbformat": 4,
  "nbformat_minor": 0,
  "metadata": {
    "colab": {
      "provenance": []
    },
    "kernelspec": {
      "name": "python3",
      "display_name": "Python 3"
    },
    "language_info": {
      "name": "python"
    }
  },
  "cells": [
    {
      "cell_type": "code",
      "source": [
        "count = 0\n",
        "for num in arr:\n",
        "  if num % 2 == 1:\n",
        "    count += 1\n",
        "    if count == 3:\n",
        "      return True\n",
        "  else:\n",
        "    count = 0\n",
        "\n",
        "return False"
      ],
      "metadata": {
        "id": "9fyBqe16HcCy"
      },
      "execution_count": null,
      "outputs": []
    }
  ]
}