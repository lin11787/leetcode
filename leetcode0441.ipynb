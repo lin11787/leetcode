{
  "nbformat": 4,
  "nbformat_minor": 0,
  "metadata": {
    "colab": {
      "provenance": []
    },
    "kernelspec": {
      "name": "python3",
      "display_name": "Python 3"
    },
    "language_info": {
      "name": "python"
    }
  },
  "cells": [
    {
      "cell_type": "code",
      "source": [
        "count = 0\n",
        "for i in range(1, n + 1):\n",
        "  if n >= i:\n",
        "    n -= i\n",
        "    count += 1\n",
        "  else:\n",
        "    break\n",
        "return count"
      ],
      "metadata": {
        "id": "jArW5FeTFQ87"
      },
      "execution_count": null,
      "outputs": []
    }
  ]
}